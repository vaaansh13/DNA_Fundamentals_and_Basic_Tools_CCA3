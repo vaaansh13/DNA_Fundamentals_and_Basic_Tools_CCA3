{
 "cells": [
  {
   "cell_type": "code",
   "execution_count": null,
   "id": "3b62acd1-c20d-465c-90c8-9f1a11083473",
   "metadata": {},
   "outputs": [],
   "source": [
    "# DNA Fundamentals and Basic Tools (CCA3)\n",
    "### Assignment 1\n",
    "\n",
    "**Name:** Vaansh Asija  \n",
    "**PRN:** 1032240032 \n",
    "**Subject:** Computational and Cognitive Analytics (CCA3)  \n",
    "**Date:** 28 October 2025\n"
   ]
  },
  {
   "cell_type": "code",
   "execution_count": 7,
   "id": "7b29e309-e8d2-4cf3-9230-b89f9b2a2a22",
   "metadata": {},
   "outputs": [],
   "source": [
    "# ==========================================================\n",
    "# Assignment 1: DNA Fundamentals and Basic Tools (CCA3)\n",
    "# Name: Vaansh Asija\n",
    "# PRN: __1032240032________________________\n",
    "# ==========================================================\n",
    "# This notebook implements DNA manipulation algorithms,\n",
    "# transcription, reverse complement, and analysis functions.\n",
    "# ==========================================================\n"
   ]
  },
  {
   "cell_type": "code",
   "execution_count": 10,
   "id": "666c0904-b574-4477-a339-9ecb08f574db",
   "metadata": {},
   "outputs": [],
   "source": [
    "# ==========================================================\n",
    "# Question 1: DNA Data Structures\n",
    "# ==========================================================\n",
    "\n",
    "class DNA:\n",
    "    \"\"\"\n",
    "    A class to represent and analyze DNA sequences.\n",
    "    \"\"\"\n",
    "\n",
    "    def __init__(self, sequence):\n",
    "        \"\"\"\n",
    "        Initialize the DNA object.\n",
    "\n",
    "        Parameters:\n",
    "            sequence (str): DNA sequence (should contain only A, T, G, C)\n",
    "        \"\"\"\n",
    "        self.sequence = sequence.upper()  # Convert to uppercase for consistency\n",
    "        self.valid_nucleotides = {'A', 'T', 'G', 'C'}\n",
    "        \n",
    "        # Validate sequence\n",
    "        if not self._validate_sequence():\n",
    "            raise ValueError(\"Invalid DNA sequence! Sequence must contain only A, T, G, C.\")\n",
    "    \n",
    "    def _validate_sequence(self):\n",
    "        \"\"\"Check if the DNA sequence contains only valid nucleotides.\"\"\"\n",
    "        return all(base in self.valid_nucleotides for base in self.sequence)\n",
    "    \n",
    "    def length(self):\n",
    "        \"\"\"Return the length of the DNA sequence.\"\"\"\n",
    "        return len(self.sequence)\n",
    "    \n",
    "    def count_nucleotides(self):\n",
    "        \"\"\"Count the occurrences of each nucleotide (A, T, G, C).\"\"\"\n",
    "        counts = {nuc: self.sequence.count(nuc) for nuc in self.valid_nucleotides}\n",
    "        return counts\n",
    "    \n",
    "    def nucleotide_statistics(self):\n",
    "        \"\"\"Return basic statistics (percentage composition of each nucleotide).\"\"\"\n",
    "        length = self.length()\n",
    "        counts = self.count_nucleotides()\n",
    "        percentages = {nuc: (count / length) * 100 for nuc, count in counts.items()}\n",
    "        return percentages\n",
    "    \n",
    "    def __str__(self):\n",
    "        \"\"\"String representation of the DNA sequence.\"\"\"\n",
    "        return f\"DNA Sequence: {self.sequence}\"\n"
   ]
  },
  {
   "cell_type": "code",
   "execution_count": 9,
   "id": "751040ac-120d-404a-a4f8-4f24cb0be56c",
   "metadata": {},
   "outputs": [
    {
     "name": "stdout",
     "output_type": "stream",
     "text": [
      "DNA Sequence: ATGCGTAGCTAG\n",
      "Length: 12\n",
      "Counts: {'T': 3, 'A': 3, 'C': 2, 'G': 4}\n",
      "Statistics: {'T': 25.0, 'A': 25.0, 'C': 16.666666666666664, 'G': 33.33333333333333}\n"
     ]
    }
   ],
   "source": [
    "# Example test for DNA class\n",
    "try:\n",
    "    dna1 = DNA(\"ATGCGTAGCTAG\")\n",
    "    print(dna1)\n",
    "    print(\"Length:\", dna1.length())\n",
    "    print(\"Counts:\", dna1.count_nucleotides())\n",
    "    print(\"Statistics:\", dna1.nucleotide_statistics())\n",
    "except ValueError as e:\n",
    "    print(e)\n"
   ]
  },
  {
   "cell_type": "code",
   "execution_count": null,
   "id": "841c7d3b-97a1-44fa-9a9d-9096b7551630",
   "metadata": {},
   "outputs": [],
   "source": [
    "### Question 2: Nucleotide Counting and Analysis\n"
   ]
  },
  {
   "cell_type": "code",
   "execution_count": 11,
   "id": "a463c2a0-1159-4029-b587-86e5f6f9f356",
   "metadata": {},
   "outputs": [
    {
     "name": "stdout",
     "output_type": "stream",
     "text": [
      "Sequence 1 frequencies: {'A': 37.5, 'T': 25.0, 'G': 25.0, 'C': 12.5}\n",
      "Sequence 2 frequencies: {'A': 37.5, 'T': 12.5, 'G': 12.5, 'C': 37.5}\n",
      "Difference between sequences: {'A': 0.0, 'T': 12.5, 'G': 12.5, 'C': 25.0}\n"
     ]
    }
   ],
   "source": [
    "# Question 2: Nucleotide Counting and Analysis\n",
    "# --------------------------------------------------------------\n",
    "def count_nucleotides(seq):\n",
    "    \"\"\"Count the number of each nucleotide.\"\"\"\n",
    "    seq = seq.upper()\n",
    "    return {nuc: seq.count(nuc) for nuc in \"ATGC\"}\n",
    "\n",
    "def nucleotide_frequencies(seq):\n",
    "    \"\"\"Calculate nucleotide frequencies as percentages.\"\"\"\n",
    "    seq = seq.upper()\n",
    "    total = len(seq)\n",
    "    counts = count_nucleotides(seq)\n",
    "    return {nuc: (count / total) * 100 for nuc, count in counts.items()}\n",
    "\n",
    "def compare_sequences(seq1, seq2):\n",
    "    \"\"\"Compare nucleotide composition between two sequences.\"\"\"\n",
    "    freq1 = nucleotide_frequencies(seq1)\n",
    "    freq2 = nucleotide_frequencies(seq2)\n",
    "    diff = {nuc: abs(freq1[nuc] - freq2[nuc]) for nuc in \"ATGC\"}\n",
    "    return diff\n",
    "\n",
    "\n",
    "# 🧪 Example Test\n",
    "seq1 = \"ATGCGTAA\"\n",
    "seq2 = \"ATGCCCAA\"\n",
    "print(\"Sequence 1 frequencies:\", nucleotide_frequencies(seq1))\n",
    "print(\"Sequence 2 frequencies:\", nucleotide_frequencies(seq2))\n",
    "print(\"Difference between sequences:\", compare_sequences(seq1, seq2))\n"
   ]
  },
  {
   "cell_type": "code",
   "execution_count": null,
   "id": "2c041d1f-ffda-476d-9aea-9257cb799fce",
   "metadata": {},
   "outputs": [],
   "source": [
    "### Question 3: String Manipulation for Genomics\n"
   ]
  },
  {
   "cell_type": "code",
   "execution_count": 12,
   "id": "5e1f1f3b-30ec-420e-a3c8-814572e00c0d",
   "metadata": {},
   "outputs": [
    {
     "name": "stdout",
     "output_type": "stream",
     "text": [
      "Uppercase: ATG-CG@T A#GC!\n",
      "Cleaned: ATGCGTAGC\n",
      "Codons: ['ATG', 'CGT', 'AGC']\n",
      "Merged: ATGCGATGC\n"
     ]
    }
   ],
   "source": [
    "# Question 3: String Manipulation for Genomics\n",
    "# --------------------------------------------------------------\n",
    "def to_uppercase(seq):\n",
    "    \"\"\"Convert DNA sequence to uppercase.\"\"\"\n",
    "    return seq.upper()\n",
    "\n",
    "def to_lowercase(seq):\n",
    "    \"\"\"Convert DNA sequence to lowercase.\"\"\"\n",
    "    return seq.lower()\n",
    "\n",
    "def clean_sequence(seq):\n",
    "    \"\"\"Remove non-nucleotide characters.\"\"\"\n",
    "    return ''.join([nuc for nuc in seq.upper() if nuc in \"ATGC\"])\n",
    "\n",
    "def split_into_codons(seq):\n",
    "    \"\"\"Split sequence into codons (groups of 3).\"\"\"\n",
    "    seq = clean_sequence(seq)\n",
    "    return [seq[i:i+3] for i in range(0, len(seq), 3) if len(seq[i:i+3]) == 3]\n",
    "\n",
    "def merge_fragments(fragments):\n",
    "    \"\"\"Merge multiple DNA fragments into a single sequence.\"\"\"\n",
    "    return ''.join(fragments)\n",
    "\n",
    "\n",
    "# 🧪 Example Test\n",
    "seq = \"atg-cg@t a#gc!\"\n",
    "print(\"Uppercase:\", to_uppercase(seq))\n",
    "print(\"Cleaned:\", clean_sequence(seq))\n",
    "print(\"Codons:\", split_into_codons(seq))\n",
    "print(\"Merged:\", merge_fragments([\"ATG\", \"CGA\", \"TGC\"]))\n"
   ]
  },
  {
   "cell_type": "code",
   "execution_count": null,
   "id": "4a149d99-bb80-4f67-a7d7-fb8b49e82f5a",
   "metadata": {},
   "outputs": [],
   "source": [
    "### Aim:\n",
    "To understand the fundamental concepts of DNA structure and write a Python program that counts the occurrences of each nucleotide (A, T, G, C) in a given DNA sequence.\n"
   ]
  },
  {
   "cell_type": "code",
   "execution_count": null,
   "id": "3735306c-9147-466c-bd50-ad908ec38a59",
   "metadata": {},
   "outputs": [],
   "source": [
    "### Theory:\n",
    "DNA (Deoxyribonucleic Acid) is a molecule that carries genetic information in all living organisms.  \n",
    "It consists of four nucleotide bases:\n",
    "- **Adenine (A)**\n",
    "- **Thymine (T)**\n",
    "- **Guanine (G)**\n",
    "- **Cytosine (C)**\n",
    "\n",
    "Each DNA strand is made up of these bases connected by a sugar-phosphate backbone.  \n",
    "Understanding DNA base composition is the first step in computational biology and bioinformatics.\n"
   ]
  },
  {
   "cell_type": "code",
   "execution_count": 13,
   "id": "7300afde-5387-42c9-856a-725975fc49da",
   "metadata": {},
   "outputs": [
    {
     "name": "stdout",
     "output_type": "stream",
     "text": [
      "DNA Sequence: ATGCTTAGCTAGCTTACGATCGATCGATCG\n",
      "Nucleotide Counts: {'A': 7, 'T': 9, 'G': 7, 'C': 7}\n"
     ]
    }
   ],
   "source": [
    "# DNA Nucleotide Counting Program\n",
    "\n",
    "def count_nucleotides(dna_sequence):\n",
    "    dna_sequence = dna_sequence.upper()  # Convert to uppercase\n",
    "    counts = {\n",
    "        'A': dna_sequence.count('A'),\n",
    "        'T': dna_sequence.count('T'),\n",
    "        'G': dna_sequence.count('G'),\n",
    "        'C': dna_sequence.count('C')\n",
    "    }\n",
    "    return counts\n",
    "\n",
    "# Example DNA sequence\n",
    "dna_seq = \"ATGCTTAGCTAGCTTACGATCGATCGATCG\"\n",
    "\n",
    "# Get nucleotide counts\n",
    "nucleotide_counts = count_nucleotides(dna_seq)\n",
    "print(\"DNA Sequence:\", dna_seq)\n",
    "print(\"Nucleotide Counts:\", nucleotide_counts)\n",
    "\n"
   ]
  },
  {
   "cell_type": "code",
   "execution_count": 14,
   "id": "d9594dd3-eb26-4b80-b3ef-1490761e1a45",
   "metadata": {},
   "outputs": [
    {
     "name": "stdout",
     "output_type": "stream",
     "text": [
      "Nucleotide Percentages:\n",
      "A: 23.33%\n",
      "T: 30.00%\n",
      "G: 23.33%\n",
      "C: 23.33%\n"
     ]
    }
   ],
   "source": [
    "# Calculate percentage composition of nucleotides\n",
    "\n",
    "total = sum(nucleotide_counts.values())\n",
    "percentages = {nuc: (count / total) * 100 for nuc, count in nucleotide_counts.items()}\n",
    "\n",
    "print(\"Nucleotide Percentages:\")\n",
    "for nuc, pct in percentages.items():\n",
    "    print(f\"{nuc}: {pct:.2f}%\")\n"
   ]
  },
  {
   "cell_type": "code",
   "execution_count": null,
   "id": "5a511d74-29d9-4e25-b809-9f5f8ef33dc7",
   "metadata": {},
   "outputs": [],
   "source": [
    "### Conclusion:\n",
    "This experiment successfully demonstrates the use of Python to analyze a DNA sequence.  \n",
    "The program counts each nucleotide and calculates their percentage composition,  \n",
    "which is a fundamental step in computational genomics and DNA analysis.\n",
    "ye"
   ]
  }
 ],
 "metadata": {
  "kernelspec": {
   "display_name": "Python 3 (ipykernel)",
   "language": "python",
   "name": "python3"
  },
  "language_info": {
   "codemirror_mode": {
    "name": "ipython",
    "version": 3
   },
   "file_extension": ".py",
   "mimetype": "text/x-python",
   "name": "python",
   "nbconvert_exporter": "python",
   "pygments_lexer": "ipython3",
   "version": "3.13.3"
  }
 },
 "nbformat": 4,
 "nbformat_minor": 5
}
